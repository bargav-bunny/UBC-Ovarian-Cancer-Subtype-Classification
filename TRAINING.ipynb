{
 "cells": [
  {
   "cell_type": "code",
   "execution_count": 3,
   "id": "da6ee7c5",
   "metadata": {},
   "outputs": [],
   "source": [
    "import pandas as pd\n",
    "import numpy as np\n",
    "import os\n",
    "import torch\n",
    "from torch.utils.data import Dataset, DataLoader\n",
    "import torch.nn as nn\n",
    "import torch.nn.functional as F\n",
    "from tqdm import tqdm\n",
    "from torch.utils.data.dataset import random_split\n"
   ]
  },
  {
   "cell_type": "code",
   "execution_count": 11,
   "id": "3358182b-8f3d-4a05-83b0-d3202b04c010",
   "metadata": {},
   "outputs": [],
   "source": [
    "train_csv_path = \"../ondemand/train.csv\""
   ]
  },
  {
   "cell_type": "code",
   "execution_count": 12,
   "id": "24130d0a-8a74-4c33-85d6-6169325bca61",
   "metadata": {},
   "outputs": [],
   "source": [
    "train_imgs_dir = \"../ondemand/train_feature_maps_aug/\""
   ]
  },
  {
   "cell_type": "code",
   "execution_count": 13,
   "id": "cc28a772-ea1c-4e9d-bd9e-5573b39c0104",
   "metadata": {},
   "outputs": [],
   "source": [
    "label_dict = {'HGSC':0, 'EC':1, 'CC':2, 'LGSC':3, 'MC':4}"
   ]
  },
  {
   "cell_type": "code",
   "execution_count": 14,
   "id": "bbc462ff",
   "metadata": {},
   "outputs": [],
   "source": [
    "revlabel_dict = {v:k for k,v in label_dict.items() }"
   ]
  },
  {
   "cell_type": "code",
   "execution_count": 16,
   "id": "4499cde8-aca6-4670-9dbc-4796d1e5d670",
   "metadata": {},
   "outputs": [],
   "source": [
    "class OvarianCancerFtrDataset(Dataset):\n",
    "\n",
    "    def __init__(self, csv_file, root_dir, label_dict, transform=None):\n",
    "\n",
    "        self.df = pd.read_csv(csv_file)\n",
    "        self.root_dir = root_dir\n",
    "        self.transform = transform\n",
    "        self.label_dict = label_dict\n",
    "        self.image_fnames = os.listdir(root_dir)\n",
    "\n",
    "    def __len__(self):\n",
    "        return len(self.image_fnames)\n",
    "\n",
    "    def __getitem__(self, idx):\n",
    "        if torch.is_tensor(idx):\n",
    "            idx = idx.tolist()\n",
    "\n",
    "        img_path = os.path.join(self.root_dir, str(self.image_fnames[idx]))\n",
    "        image = torch.load(img_path)\n",
    "        label = self.df.loc[self.df['image_id'] == int(self.image_fnames[idx].split('.')[0].split('_')[0])]['label'].iloc[0]\n",
    "        label = self.label_dict[label]\n",
    "\n",
    "        if self.transform:\n",
    "            image = self.transform(image)\n",
    "\n",
    "        return image, label"
   ]
  },
  {
   "cell_type": "code",
   "execution_count": 17,
   "id": "60db4fb3-d951-4dac-876e-0a2533abef0d",
   "metadata": {},
   "outputs": [],
   "source": [
    "dataset = OvarianCancerFtrDataset(train_csv_path, train_imgs_dir, label_dict)"
   ]
  },
  {
   "cell_type": "code",
   "execution_count": 20,
   "id": "5ee826a3-11fe-4ff2-b7ad-f690b64ca0ff",
   "metadata": {},
   "outputs": [],
   "source": [
    "train_size = int(0.8 * len(dataset))  \n",
    "val_size = len(dataset) - train_size  \n",
    "train_dataset, val_dataset = random_split(dataset, [train_size, val_size])\n",
    "\n",
    "train_loader = DataLoader(train_dataset, batch_size=4, shuffle=True)\n",
    "val_loader = DataLoader(val_dataset, batch_size=4, shuffle=False)\n"
   ]
  },
  {
   "cell_type": "code",
   "execution_count": 63,
   "id": "6572890d-2be0-4236-bd35-aeaae426e445",
   "metadata": {},
   "outputs": [],
   "source": [
    "class ClassificationModel(nn.Module):\n",
    "    def __init__(self, num_classes):\n",
    "        super(ClassificationModel, self).__init__()\n",
    "        self.fc1 = nn.Linear(2048, 64) \n",
    "        self.fc2 = nn.Linear(64, 32) \n",
    "        self.fc3 = nn.Linear(32, num_classes)\n",
    "\n",
    "    def forward(self, x):\n",
    "        x = F.relu(self.fc1(x))\n",
    "        x = F.relu(self.fc2(x))\n",
    "        x = torch.softmax(self.fc3(x), dim = 1)\n",
    "        return x\n"
   ]
  },
  {
   "cell_type": "code",
   "execution_count": 93,
   "id": "d5caa463-bb86-4f11-b549-d9c8fd8cd334",
   "metadata": {},
   "outputs": [],
   "source": [
    "model = ClassificationModel(num_classes = 5)\n",
    "criterion = nn.CrossEntropyLoss()\n",
    "optimizer = torch.optim.Adam(model.parameters(), lr=0.0001)  \n"
   ]
  },
  {
   "cell_type": "code",
   "execution_count": 94,
   "id": "f66505b8-f264-4832-a62b-f3889f9a7d59",
   "metadata": {},
   "outputs": [],
   "source": [
    "# device = torch.device(\"cuda\" if torch.cuda.is_available() else \"cpu\")\n",
    "\n",
    "device = torch.device(\"cpu\")\n",
    "\n",
    "model = model.to(device)\n"
   ]
  },
  {
   "cell_type": "code",
   "execution_count": 95,
   "id": "80ebf06d-ec43-4c46-8ed4-b77f8f1277a4",
   "metadata": {
    "scrolled": true
   },
   "outputs": [
    {
     "name": "stderr",
     "output_type": "stream",
     "text": [
      "100%|███████████████████████████████████████████████████████████████| 860/860 [00:02<00:00, 424.94it/s]\n"
     ]
    },
    {
     "name": "stdout",
     "output_type": "stream",
     "text": [
      "Epoch [1/50], Training Loss: 1.4995, Validation Loss: 1.4770, Validation Accuracy: 0.4163\n"
     ]
    },
    {
     "name": "stderr",
     "output_type": "stream",
     "text": [
      "100%|███████████████████████████████████████████████████████████████| 860/860 [00:00<00:00, 927.84it/s]\n"
     ]
    },
    {
     "name": "stdout",
     "output_type": "stream",
     "text": [
      "Epoch [2/50], Training Loss: 1.4719, Validation Loss: 1.4484, Validation Accuracy: 0.4500\n"
     ]
    },
    {
     "name": "stderr",
     "output_type": "stream",
     "text": [
      "100%|███████████████████████████████████████████████████████████████| 860/860 [00:00<00:00, 944.67it/s]\n"
     ]
    },
    {
     "name": "stdout",
     "output_type": "stream",
     "text": [
      "Epoch [3/50], Training Loss: 1.4457, Validation Loss: 1.4386, Validation Accuracy: 0.4872\n"
     ]
    },
    {
     "name": "stderr",
     "output_type": "stream",
     "text": [
      "100%|███████████████████████████████████████████████████████████████| 860/860 [00:00<00:00, 948.56it/s]\n"
     ]
    },
    {
     "name": "stdout",
     "output_type": "stream",
     "text": [
      "Epoch [4/50], Training Loss: 1.4286, Validation Loss: 1.4140, Validation Accuracy: 0.4872\n"
     ]
    },
    {
     "name": "stderr",
     "output_type": "stream",
     "text": [
      "100%|███████████████████████████████████████████████████████████████| 860/860 [00:00<00:00, 951.15it/s]\n"
     ]
    },
    {
     "name": "stdout",
     "output_type": "stream",
     "text": [
      "Epoch [5/50], Training Loss: 1.4153, Validation Loss: 1.4017, Validation Accuracy: 0.4953\n"
     ]
    },
    {
     "name": "stderr",
     "output_type": "stream",
     "text": [
      "100%|███████████████████████████████████████████████████████████████| 860/860 [00:00<00:00, 943.77it/s]\n"
     ]
    },
    {
     "name": "stdout",
     "output_type": "stream",
     "text": [
      "Epoch [6/50], Training Loss: 1.4017, Validation Loss: 1.3862, Validation Accuracy: 0.5372\n"
     ]
    },
    {
     "name": "stderr",
     "output_type": "stream",
     "text": [
      "100%|███████████████████████████████████████████████████████████████| 860/860 [00:00<00:00, 947.41it/s]\n"
     ]
    },
    {
     "name": "stdout",
     "output_type": "stream",
     "text": [
      "Epoch [7/50], Training Loss: 1.3860, Validation Loss: 1.3694, Validation Accuracy: 0.5477\n"
     ]
    },
    {
     "name": "stderr",
     "output_type": "stream",
     "text": [
      "100%|███████████████████████████████████████████████████████████████| 860/860 [00:00<00:00, 944.38it/s]\n"
     ]
    },
    {
     "name": "stdout",
     "output_type": "stream",
     "text": [
      "Epoch [8/50], Training Loss: 1.3744, Validation Loss: 1.3543, Validation Accuracy: 0.5674\n"
     ]
    },
    {
     "name": "stderr",
     "output_type": "stream",
     "text": [
      "100%|███████████████████████████████████████████████████████████████| 860/860 [00:00<00:00, 941.41it/s]\n"
     ]
    },
    {
     "name": "stdout",
     "output_type": "stream",
     "text": [
      "Epoch [9/50], Training Loss: 1.3628, Validation Loss: 1.3458, Validation Accuracy: 0.5605\n"
     ]
    },
    {
     "name": "stderr",
     "output_type": "stream",
     "text": [
      "100%|███████████████████████████████████████████████████████████████| 860/860 [00:00<00:00, 939.03it/s]\n"
     ]
    },
    {
     "name": "stdout",
     "output_type": "stream",
     "text": [
      "Epoch [10/50], Training Loss: 1.3520, Validation Loss: 1.3407, Validation Accuracy: 0.5930\n"
     ]
    },
    {
     "name": "stderr",
     "output_type": "stream",
     "text": [
      "100%|███████████████████████████████████████████████████████████████| 860/860 [00:00<00:00, 934.87it/s]\n"
     ]
    },
    {
     "name": "stdout",
     "output_type": "stream",
     "text": [
      "Epoch [11/50], Training Loss: 1.3452, Validation Loss: 1.3278, Validation Accuracy: 0.5837\n"
     ]
    },
    {
     "name": "stderr",
     "output_type": "stream",
     "text": [
      "100%|███████████████████████████████████████████████████████████████| 860/860 [00:00<00:00, 914.06it/s]\n"
     ]
    },
    {
     "name": "stdout",
     "output_type": "stream",
     "text": [
      "Epoch [12/50], Training Loss: 1.3364, Validation Loss: 1.3202, Validation Accuracy: 0.6000\n"
     ]
    },
    {
     "name": "stderr",
     "output_type": "stream",
     "text": [
      "100%|███████████████████████████████████████████████████████████████| 860/860 [00:00<00:00, 912.97it/s]\n"
     ]
    },
    {
     "name": "stdout",
     "output_type": "stream",
     "text": [
      "Epoch [13/50], Training Loss: 1.3311, Validation Loss: 1.3304, Validation Accuracy: 0.5616\n"
     ]
    },
    {
     "name": "stderr",
     "output_type": "stream",
     "text": [
      "100%|███████████████████████████████████████████████████████████████| 860/860 [00:00<00:00, 932.44it/s]\n"
     ]
    },
    {
     "name": "stdout",
     "output_type": "stream",
     "text": [
      "Epoch [14/50], Training Loss: 1.3256, Validation Loss: 1.3173, Validation Accuracy: 0.5942\n"
     ]
    },
    {
     "name": "stderr",
     "output_type": "stream",
     "text": [
      "100%|███████████████████████████████████████████████████████████████| 860/860 [00:00<00:00, 929.58it/s]\n"
     ]
    },
    {
     "name": "stdout",
     "output_type": "stream",
     "text": [
      "Epoch [15/50], Training Loss: 1.3196, Validation Loss: 1.3384, Validation Accuracy: 0.5535\n"
     ]
    },
    {
     "name": "stderr",
     "output_type": "stream",
     "text": [
      "100%|███████████████████████████████████████████████████████████████| 860/860 [00:00<00:00, 931.94it/s]\n"
     ]
    },
    {
     "name": "stdout",
     "output_type": "stream",
     "text": [
      "Epoch [16/50], Training Loss: 1.3146, Validation Loss: 1.3017, Validation Accuracy: 0.6093\n"
     ]
    },
    {
     "name": "stderr",
     "output_type": "stream",
     "text": [
      "100%|███████████████████████████████████████████████████████████████| 860/860 [00:00<00:00, 934.33it/s]\n"
     ]
    },
    {
     "name": "stdout",
     "output_type": "stream",
     "text": [
      "Epoch [17/50], Training Loss: 1.3097, Validation Loss: 1.3455, Validation Accuracy: 0.5616\n"
     ]
    },
    {
     "name": "stderr",
     "output_type": "stream",
     "text": [
      "100%|███████████████████████████████████████████████████████████████| 860/860 [00:00<00:00, 926.80it/s]\n"
     ]
    },
    {
     "name": "stdout",
     "output_type": "stream",
     "text": [
      "Epoch [18/50], Training Loss: 1.3044, Validation Loss: 1.2954, Validation Accuracy: 0.6291\n"
     ]
    },
    {
     "name": "stderr",
     "output_type": "stream",
     "text": [
      "100%|███████████████████████████████████████████████████████████████| 860/860 [00:00<00:00, 915.52it/s]\n"
     ]
    },
    {
     "name": "stdout",
     "output_type": "stream",
     "text": [
      "Epoch [19/50], Training Loss: 1.3024, Validation Loss: 1.3056, Validation Accuracy: 0.5977\n"
     ]
    },
    {
     "name": "stderr",
     "output_type": "stream",
     "text": [
      "100%|███████████████████████████████████████████████████████████████| 860/860 [00:00<00:00, 935.40it/s]\n"
     ]
    },
    {
     "name": "stdout",
     "output_type": "stream",
     "text": [
      "Epoch [20/50], Training Loss: 1.2985, Validation Loss: 1.2847, Validation Accuracy: 0.6267\n"
     ]
    },
    {
     "name": "stderr",
     "output_type": "stream",
     "text": [
      "100%|███████████████████████████████████████████████████████████████| 860/860 [00:00<00:00, 934.65it/s]\n"
     ]
    },
    {
     "name": "stdout",
     "output_type": "stream",
     "text": [
      "Epoch [21/50], Training Loss: 1.2926, Validation Loss: 1.2935, Validation Accuracy: 0.6186\n"
     ]
    },
    {
     "name": "stderr",
     "output_type": "stream",
     "text": [
      "100%|███████████████████████████████████████████████████████████████| 860/860 [00:00<00:00, 928.21it/s]\n"
     ]
    },
    {
     "name": "stdout",
     "output_type": "stream",
     "text": [
      "Epoch [22/50], Training Loss: 1.2883, Validation Loss: 1.2874, Validation Accuracy: 0.6128\n"
     ]
    },
    {
     "name": "stderr",
     "output_type": "stream",
     "text": [
      "100%|███████████████████████████████████████████████████████████████| 860/860 [00:00<00:00, 933.52it/s]\n"
     ]
    },
    {
     "name": "stdout",
     "output_type": "stream",
     "text": [
      "Epoch [23/50], Training Loss: 1.2871, Validation Loss: 1.2836, Validation Accuracy: 0.6174\n"
     ]
    },
    {
     "name": "stderr",
     "output_type": "stream",
     "text": [
      "100%|███████████████████████████████████████████████████████████████| 860/860 [00:00<00:00, 934.94it/s]\n"
     ]
    },
    {
     "name": "stdout",
     "output_type": "stream",
     "text": [
      "Epoch [24/50], Training Loss: 1.2844, Validation Loss: 1.2739, Validation Accuracy: 0.6430\n"
     ]
    },
    {
     "name": "stderr",
     "output_type": "stream",
     "text": [
      "100%|███████████████████████████████████████████████████████████████| 860/860 [00:00<00:00, 930.04it/s]\n"
     ]
    },
    {
     "name": "stdout",
     "output_type": "stream",
     "text": [
      "Epoch [25/50], Training Loss: 1.2830, Validation Loss: 1.2718, Validation Accuracy: 0.6430\n"
     ]
    },
    {
     "name": "stderr",
     "output_type": "stream",
     "text": [
      "100%|███████████████████████████████████████████████████████████████| 860/860 [00:00<00:00, 932.30it/s]\n"
     ]
    },
    {
     "name": "stdout",
     "output_type": "stream",
     "text": [
      "Epoch [26/50], Training Loss: 1.2785, Validation Loss: 1.2727, Validation Accuracy: 0.6442\n"
     ]
    },
    {
     "name": "stderr",
     "output_type": "stream",
     "text": [
      "100%|███████████████████████████████████████████████████████████████| 860/860 [00:00<00:00, 928.31it/s]\n"
     ]
    },
    {
     "name": "stdout",
     "output_type": "stream",
     "text": [
      "Epoch [27/50], Training Loss: 1.2777, Validation Loss: 1.2740, Validation Accuracy: 0.6419\n"
     ]
    },
    {
     "name": "stderr",
     "output_type": "stream",
     "text": [
      "100%|███████████████████████████████████████████████████████████████| 860/860 [00:00<00:00, 929.45it/s]\n"
     ]
    },
    {
     "name": "stdout",
     "output_type": "stream",
     "text": [
      "Epoch [28/50], Training Loss: 1.2756, Validation Loss: 1.2687, Validation Accuracy: 0.6407\n"
     ]
    },
    {
     "name": "stderr",
     "output_type": "stream",
     "text": [
      "100%|███████████████████████████████████████████████████████████████| 860/860 [00:00<00:00, 926.40it/s]\n"
     ]
    },
    {
     "name": "stdout",
     "output_type": "stream",
     "text": [
      "Epoch [29/50], Training Loss: 1.2701, Validation Loss: 1.3037, Validation Accuracy: 0.5965\n"
     ]
    },
    {
     "name": "stderr",
     "output_type": "stream",
     "text": [
      "100%|███████████████████████████████████████████████████████████████| 860/860 [00:00<00:00, 932.93it/s]\n"
     ]
    },
    {
     "name": "stdout",
     "output_type": "stream",
     "text": [
      "Epoch [30/50], Training Loss: 1.2692, Validation Loss: 1.2621, Validation Accuracy: 0.6442\n"
     ]
    },
    {
     "name": "stderr",
     "output_type": "stream",
     "text": [
      "100%|███████████████████████████████████████████████████████████████| 860/860 [00:00<00:00, 930.35it/s]\n"
     ]
    },
    {
     "name": "stdout",
     "output_type": "stream",
     "text": [
      "Epoch [31/50], Training Loss: 1.2682, Validation Loss: 1.2672, Validation Accuracy: 0.6477\n"
     ]
    },
    {
     "name": "stderr",
     "output_type": "stream",
     "text": [
      "100%|███████████████████████████████████████████████████████████████| 860/860 [00:01<00:00, 854.51it/s]\n"
     ]
    },
    {
     "name": "stdout",
     "output_type": "stream",
     "text": [
      "Epoch [32/50], Training Loss: 1.2685, Validation Loss: 1.2629, Validation Accuracy: 0.6488\n"
     ]
    },
    {
     "name": "stderr",
     "output_type": "stream",
     "text": [
      "100%|███████████████████████████████████████████████████████████████| 860/860 [00:00<00:00, 936.99it/s]\n"
     ]
    },
    {
     "name": "stdout",
     "output_type": "stream",
     "text": [
      "Epoch [33/50], Training Loss: 1.2639, Validation Loss: 1.2578, Validation Accuracy: 0.6500\n"
     ]
    },
    {
     "name": "stderr",
     "output_type": "stream",
     "text": [
      "100%|███████████████████████████████████████████████████████████████| 860/860 [00:00<00:00, 938.31it/s]\n"
     ]
    },
    {
     "name": "stdout",
     "output_type": "stream",
     "text": [
      "Epoch [34/50], Training Loss: 1.2617, Validation Loss: 1.2545, Validation Accuracy: 0.6547\n"
     ]
    },
    {
     "name": "stderr",
     "output_type": "stream",
     "text": [
      "100%|███████████████████████████████████████████████████████████████| 860/860 [00:00<00:00, 934.70it/s]\n"
     ]
    },
    {
     "name": "stdout",
     "output_type": "stream",
     "text": [
      "Epoch [35/50], Training Loss: 1.2591, Validation Loss: 1.3134, Validation Accuracy: 0.5802\n"
     ]
    },
    {
     "name": "stderr",
     "output_type": "stream",
     "text": [
      "100%|███████████████████████████████████████████████████████████████| 860/860 [00:00<00:00, 931.80it/s]\n"
     ]
    },
    {
     "name": "stdout",
     "output_type": "stream",
     "text": [
      "Epoch [36/50], Training Loss: 1.2562, Validation Loss: 1.2610, Validation Accuracy: 0.6488\n"
     ]
    },
    {
     "name": "stderr",
     "output_type": "stream",
     "text": [
      "100%|███████████████████████████████████████████████████████████████| 860/860 [00:00<00:00, 927.02it/s]\n"
     ]
    },
    {
     "name": "stdout",
     "output_type": "stream",
     "text": [
      "Epoch [37/50], Training Loss: 1.2543, Validation Loss: 1.2872, Validation Accuracy: 0.6163\n"
     ]
    },
    {
     "name": "stderr",
     "output_type": "stream",
     "text": [
      "100%|███████████████████████████████████████████████████████████████| 860/860 [00:00<00:00, 920.29it/s]\n"
     ]
    },
    {
     "name": "stdout",
     "output_type": "stream",
     "text": [
      "Epoch [38/50], Training Loss: 1.2524, Validation Loss: 1.2598, Validation Accuracy: 0.6547\n"
     ]
    },
    {
     "name": "stderr",
     "output_type": "stream",
     "text": [
      "100%|███████████████████████████████████████████████████████████████| 860/860 [00:00<00:00, 912.73it/s]\n"
     ]
    },
    {
     "name": "stdout",
     "output_type": "stream",
     "text": [
      "Epoch [39/50], Training Loss: 1.2500, Validation Loss: 1.2563, Validation Accuracy: 0.6593\n"
     ]
    },
    {
     "name": "stderr",
     "output_type": "stream",
     "text": [
      "100%|███████████████████████████████████████████████████████████████| 860/860 [00:00<00:00, 930.78it/s]\n"
     ]
    },
    {
     "name": "stdout",
     "output_type": "stream",
     "text": [
      "Epoch [40/50], Training Loss: 1.2501, Validation Loss: 1.2567, Validation Accuracy: 0.6512\n"
     ]
    },
    {
     "name": "stderr",
     "output_type": "stream",
     "text": [
      "100%|███████████████████████████████████████████████████████████████| 860/860 [00:00<00:00, 930.70it/s]\n"
     ]
    },
    {
     "name": "stdout",
     "output_type": "stream",
     "text": [
      "Epoch [41/50], Training Loss: 1.2475, Validation Loss: 1.2505, Validation Accuracy: 0.6581\n"
     ]
    },
    {
     "name": "stderr",
     "output_type": "stream",
     "text": [
      "100%|███████████████████████████████████████████████████████████████| 860/860 [00:00<00:00, 930.47it/s]\n"
     ]
    },
    {
     "name": "stdout",
     "output_type": "stream",
     "text": [
      "Epoch [42/50], Training Loss: 1.2461, Validation Loss: 1.2453, Validation Accuracy: 0.6686\n"
     ]
    },
    {
     "name": "stderr",
     "output_type": "stream",
     "text": [
      "100%|███████████████████████████████████████████████████████████████| 860/860 [00:00<00:00, 924.31it/s]\n"
     ]
    },
    {
     "name": "stdout",
     "output_type": "stream",
     "text": [
      "Epoch [43/50], Training Loss: 1.2460, Validation Loss: 1.2546, Validation Accuracy: 0.6465\n"
     ]
    },
    {
     "name": "stderr",
     "output_type": "stream",
     "text": [
      "100%|███████████████████████████████████████████████████████████████| 860/860 [00:00<00:00, 929.70it/s]\n"
     ]
    },
    {
     "name": "stdout",
     "output_type": "stream",
     "text": [
      "Epoch [44/50], Training Loss: 1.2430, Validation Loss: 1.2528, Validation Accuracy: 0.6581\n"
     ]
    },
    {
     "name": "stderr",
     "output_type": "stream",
     "text": [
      "100%|███████████████████████████████████████████████████████████████| 860/860 [00:00<00:00, 923.68it/s]\n"
     ]
    },
    {
     "name": "stdout",
     "output_type": "stream",
     "text": [
      "Epoch [45/50], Training Loss: 1.2406, Validation Loss: 1.2496, Validation Accuracy: 0.6605\n"
     ]
    },
    {
     "name": "stderr",
     "output_type": "stream",
     "text": [
      "100%|███████████████████████████████████████████████████████████████| 860/860 [00:00<00:00, 931.87it/s]\n"
     ]
    },
    {
     "name": "stdout",
     "output_type": "stream",
     "text": [
      "Epoch [46/50], Training Loss: 1.2405, Validation Loss: 1.2416, Validation Accuracy: 0.6686\n"
     ]
    },
    {
     "name": "stderr",
     "output_type": "stream",
     "text": [
      "100%|███████████████████████████████████████████████████████████████| 860/860 [00:00<00:00, 935.25it/s]\n"
     ]
    },
    {
     "name": "stdout",
     "output_type": "stream",
     "text": [
      "Epoch [47/50], Training Loss: 1.2395, Validation Loss: 1.2437, Validation Accuracy: 0.6663\n"
     ]
    },
    {
     "name": "stderr",
     "output_type": "stream",
     "text": [
      "100%|███████████████████████████████████████████████████████████████| 860/860 [00:00<00:00, 934.20it/s]\n"
     ]
    },
    {
     "name": "stdout",
     "output_type": "stream",
     "text": [
      "Epoch [48/50], Training Loss: 1.2386, Validation Loss: 1.2452, Validation Accuracy: 0.6663\n"
     ]
    },
    {
     "name": "stderr",
     "output_type": "stream",
     "text": [
      "100%|███████████████████████████████████████████████████████████████| 860/860 [00:00<00:00, 911.78it/s]\n"
     ]
    },
    {
     "name": "stdout",
     "output_type": "stream",
     "text": [
      "Epoch [49/50], Training Loss: 1.2369, Validation Loss: 1.2557, Validation Accuracy: 0.6500\n"
     ]
    },
    {
     "name": "stderr",
     "output_type": "stream",
     "text": [
      "100%|███████████████████████████████████████████████████████████████| 860/860 [00:00<00:00, 927.06it/s]\n"
     ]
    },
    {
     "name": "stdout",
     "output_type": "stream",
     "text": [
      "Epoch [50/50], Training Loss: 1.2330, Validation Loss: 1.2396, Validation Accuracy: 0.6733\n"
     ]
    }
   ],
   "source": [
    "num_epochs = 50\n",
    "\n",
    "for epoch in range(num_epochs):\n",
    "    \n",
    "    model.train()\n",
    "    total_train_loss = 0\n",
    "\n",
    "    for batch in tqdm(train_loader):\n",
    "        inputs, labels = batch\n",
    "        inputs, labels = inputs.to(device), labels.to(device) \n",
    "\n",
    "        outputs = model(inputs.float())\n",
    "        loss = criterion(outputs, labels.long())  \n",
    "\n",
    "        optimizer.zero_grad()\n",
    "        loss.backward()\n",
    "        optimizer.step()\n",
    "\n",
    "        total_train_loss += loss.item()\n",
    "\n",
    "    avg_train_loss = total_train_loss / len(train_loader)\n",
    "\n",
    "    model.eval() \n",
    "    total_val_loss = 0\n",
    "    correct_predictions = 0\n",
    "    total_predictions = 0\n",
    "\n",
    "    with torch.no_grad(): \n",
    "        for inputs, labels in val_loader:\n",
    "            inputs, labels = inputs.to(device), labels.to(device) \n",
    "\n",
    "            outputs = model(inputs.float())\n",
    "            loss = criterion(outputs, labels.long())\n",
    "\n",
    "            total_val_loss += loss.item()\n",
    "\n",
    "            _, predicted = torch.max(outputs.data, 1)\n",
    "            total_predictions += labels.size(0)\n",
    "            correct_predictions += (predicted == labels).sum().item()\n",
    "\n",
    "    avg_val_loss = total_val_loss / len(val_loader)\n",
    "    val_accuracy = correct_predictions / total_predictions\n",
    "\n",
    "    print(f'Epoch [{epoch+1}/{num_epochs}], Training Loss: {avg_train_loss:.4f}, Validation Loss: {avg_val_loss:.4f}, Validation Accuracy: {val_accuracy:.4f}')\n"
   ]
  },
  {
   "cell_type": "code",
   "execution_count": 28,
   "id": "0be333e9-31f5-4e4e-8954-31b0194094b1",
   "metadata": {},
   "outputs": [],
   "source": [
    "torch.save(model.state_dict(), 'model_acc_67aug.pt')\n"
   ]
  },
  {
   "cell_type": "code",
   "execution_count": null,
   "id": "d9537c2f",
   "metadata": {},
   "outputs": [],
   "source": []
  },
  {
   "cell_type": "code",
   "execution_count": null,
   "id": "807803c1",
   "metadata": {},
   "outputs": [],
   "source": []
  },
  {
   "cell_type": "code",
   "execution_count": null,
   "id": "870a2773",
   "metadata": {},
   "outputs": [],
   "source": []
  },
  {
   "cell_type": "code",
   "execution_count": 29,
   "id": "c4ed8bd8-fa2a-4d3e-a788-e20068c07eb0",
   "metadata": {},
   "outputs": [],
   "source": [
    "class ClassificationModel(nn.Module):\n",
    "    def __init__(self, num_classes):\n",
    "        super(ClassificationModel, self).__init__()\n",
    "        self.fc1 = nn.Linear(2048, 64) \n",
    "        self.fc2 = nn.Linear(64, 32) \n",
    "        self.fc3 = nn.Linear(32, num_classes)\n",
    "\n",
    "    def forward(self, x):\n",
    "        x = F.relu(self.fc1(x))\n",
    "        x = F.relu(self.fc2(x))\n",
    "        x = torch.softmax(self.fc3(x), dim = 1)\n",
    "        return x\n"
   ]
  },
  {
   "cell_type": "code",
   "execution_count": 30,
   "id": "68175936",
   "metadata": {},
   "outputs": [
    {
     "data": {
      "text/plain": [
       "ClassificationModel(\n",
       "  (fc1): Linear(in_features=2048, out_features=64, bias=True)\n",
       "  (fc2): Linear(in_features=64, out_features=32, bias=True)\n",
       "  (fc3): Linear(in_features=32, out_features=5, bias=True)\n",
       ")"
      ]
     },
     "execution_count": 30,
     "metadata": {},
     "output_type": "execute_result"
    }
   ],
   "source": [
    "model = ClassificationModel(num_classes = 5)\n",
    "model.load_state_dict(torch.load('model_acc_67aug.pt'))\n",
    "model.eval()"
   ]
  },
  {
   "cell_type": "code",
   "execution_count": 104,
   "id": "846182b5-d689-4bba-9a84-51d709726706",
   "metadata": {},
   "outputs": [],
   "source": [
    "# with torch.no_grad(): \n",
    "#     for inputs, labels in test_loader:\n",
    "#         inputs, labels = inputs.to(device), labels.to(device) \n",
    "\n",
    "#         outputs = model(inputs.float())\n",
    "#         loss = criterion(outputs, labels.long())\n",
    "\n",
    "\n",
    "#         _, predicted = torch.max(outputs.data, 1)\n",
    "#         total_predictions += labels.size(0)\n",
    "#         correct_predictions += (predicted == labels).sum().item()\n",
    "\n",
    "# test_accuracy = correct_predictions / total_predictions"
   ]
  },
  {
   "cell_type": "code",
   "execution_count": 96,
   "id": "e7d85445-ad68-4ed2-b901-b24af7f6765f",
   "metadata": {},
   "outputs": [
    {
     "name": "stdout",
     "output_type": "stream",
     "text": [
      "61100 0\n",
      "1020 2\n",
      "8531 1\n",
      "8713 0\n",
      "29915 0\n",
      "35998 1\n",
      "1101 2\n",
      "56351 1\n",
      "12159 0\n",
      "9341 2\n",
      "10800 1\n",
      "26939 2\n",
      "25923 2\n",
      "30794 2\n",
      "30986 1\n",
      "4797 1\n",
      "34690 2\n",
      "38687 0\n",
      "47020 0\n",
      "63121 1\n",
      "53900 2\n",
      "31300 0\n",
      "20316 0\n",
      "26219 2\n",
      "19512 2\n",
      "35652 0\n",
      "47984 2\n",
      "66 2\n",
      "51679 2\n",
      "38366 2\n",
      "15871 0\n",
      "25256 0\n",
      "3098 0\n",
      "38041 0\n",
      "18196 0\n",
      "36639 0\n",
      "6281 1\n",
      "6175 0\n",
      "20463 0\n",
      "39258 2\n",
      "45725 2\n",
      "61797 0\n",
      "32112 0\n",
      "41099 0\n",
      "6140 2\n",
      "1660 2\n",
      "3881 0\n",
      "1943 1\n",
      "56993 2\n",
      "63836 0\n",
      "58947 2\n",
      "18568 0\n",
      "53688 1\n",
      "5992 0\n",
      "63289 2\n",
      "4211 0\n",
      "60988 2\n",
      "58974 2\n",
      "30539 2\n",
      "40888 0\n",
      "49942 1\n",
      "46769 2\n",
      "35953 1\n",
      "63941 0\n",
      "36302 0\n",
      "10246 1\n",
      "60287 0\n",
      "23629 2\n",
      "61424 0\n",
      "431 2\n",
      "27739 0\n",
      "30272 2\n",
      "15912 2\n",
      "50932 0\n",
      "21260 0\n",
      "25331 1\n",
      "7482 2\n",
      "46736 2\n",
      "9154 2\n",
      "52438 2\n",
      "18914 0\n",
      "53655 1\n",
      "3191 2\n",
      "65094 1\n",
      "286 1\n",
      "39255 1\n",
      "6582 2\n",
      "45254 2\n",
      "9509 0\n",
      "53098 1\n",
      "40129 2\n",
      "46815 1\n",
      "34822 0\n",
      "57711 2\n",
      "7204 2\n",
      "57696 0\n",
      "30792 0\n",
      "55279 2\n",
      "41361 2\n",
      "39728 0\n",
      "48734 1\n",
      "65300 0\n",
      "13568 0\n",
      "50878 0\n",
      "39297 2\n",
      "38118 2\n",
      "35197 2\n",
      "36783 0\n"
     ]
    }
   ],
   "source": [
    "res_predicted = []\n",
    "res_fnames = []\n",
    "\n",
    "for imag_fname in os.listdir(test_imgs_dir):\n",
    "\n",
    "    img_path = os.path.join(test_imgs_dir, str(imag_fname))\n",
    "    \n",
    "    image = torch.load(img_path)\n",
    "\n",
    "    outputs = model(image.unsqueeze(0))\n",
    "    _, predicted = torch.max(outputs.data, 1)\n",
    "\n",
    "    # print(torch.max(outputs)\n",
    "\n",
    "    #_, predicted = torch.max(outputs.data, 1)\n",
    "    print(imag_fname.split('.')[0], predicted.item())\n",
    "\n",
    "    res_predicted.append(revlabel_dict[predicted.item()])\n",
    "    res_fnames.append(imag_fname.split('.')[0])\n",
    "    \n",
    "\n"
   ]
  },
  {
   "cell_type": "code",
   "execution_count": 97,
   "id": "4373021f-5cc7-441a-b21e-6b37824b595c",
   "metadata": {},
   "outputs": [],
   "source": [
    "res_df = pd.DataFrame()\n",
    "res_df['image_id'] = res_fnames\n",
    "res_df['pred_label'] = res_predicted\n",
    "\n"
   ]
  },
  {
   "cell_type": "code",
   "execution_count": 98,
   "id": "a432765b-a606-4ac0-b703-86e0d98ebb9e",
   "metadata": {},
   "outputs": [
    {
     "data": {
      "text/html": [
       "<div>\n",
       "<style scoped>\n",
       "    .dataframe tbody tr th:only-of-type {\n",
       "        vertical-align: middle;\n",
       "    }\n",
       "\n",
       "    .dataframe tbody tr th {\n",
       "        vertical-align: top;\n",
       "    }\n",
       "\n",
       "    .dataframe thead th {\n",
       "        text-align: right;\n",
       "    }\n",
       "</style>\n",
       "<table border=\"1\" class=\"dataframe\">\n",
       "  <thead>\n",
       "    <tr style=\"text-align: right;\">\n",
       "      <th></th>\n",
       "      <th>image_id</th>\n",
       "      <th>pred_label</th>\n",
       "    </tr>\n",
       "  </thead>\n",
       "  <tbody>\n",
       "    <tr>\n",
       "      <th>0</th>\n",
       "      <td>61100</td>\n",
       "      <td>HGSC</td>\n",
       "    </tr>\n",
       "    <tr>\n",
       "      <th>1</th>\n",
       "      <td>1020</td>\n",
       "      <td>CC</td>\n",
       "    </tr>\n",
       "    <tr>\n",
       "      <th>2</th>\n",
       "      <td>8531</td>\n",
       "      <td>EC</td>\n",
       "    </tr>\n",
       "    <tr>\n",
       "      <th>3</th>\n",
       "      <td>8713</td>\n",
       "      <td>HGSC</td>\n",
       "    </tr>\n",
       "    <tr>\n",
       "      <th>4</th>\n",
       "      <td>29915</td>\n",
       "      <td>HGSC</td>\n",
       "    </tr>\n",
       "    <tr>\n",
       "      <th>...</th>\n",
       "      <td>...</td>\n",
       "      <td>...</td>\n",
       "    </tr>\n",
       "    <tr>\n",
       "      <th>103</th>\n",
       "      <td>50878</td>\n",
       "      <td>HGSC</td>\n",
       "    </tr>\n",
       "    <tr>\n",
       "      <th>104</th>\n",
       "      <td>39297</td>\n",
       "      <td>CC</td>\n",
       "    </tr>\n",
       "    <tr>\n",
       "      <th>105</th>\n",
       "      <td>38118</td>\n",
       "      <td>CC</td>\n",
       "    </tr>\n",
       "    <tr>\n",
       "      <th>106</th>\n",
       "      <td>35197</td>\n",
       "      <td>CC</td>\n",
       "    </tr>\n",
       "    <tr>\n",
       "      <th>107</th>\n",
       "      <td>36783</td>\n",
       "      <td>HGSC</td>\n",
       "    </tr>\n",
       "  </tbody>\n",
       "</table>\n",
       "<p>108 rows × 2 columns</p>\n",
       "</div>"
      ],
      "text/plain": [
       "    image_id pred_label\n",
       "0      61100       HGSC\n",
       "1       1020         CC\n",
       "2       8531         EC\n",
       "3       8713       HGSC\n",
       "4      29915       HGSC\n",
       "..       ...        ...\n",
       "103    50878       HGSC\n",
       "104    39297         CC\n",
       "105    38118         CC\n",
       "106    35197         CC\n",
       "107    36783       HGSC\n",
       "\n",
       "[108 rows x 2 columns]"
      ]
     },
     "execution_count": 98,
     "metadata": {},
     "output_type": "execute_result"
    }
   ],
   "source": [
    "res_df"
   ]
  },
  {
   "cell_type": "code",
   "execution_count": 99,
   "id": "7066ef41-3f6a-409c-ac5b-b5f79437cd90",
   "metadata": {},
   "outputs": [
    {
     "data": {
      "text/html": [
       "<div>\n",
       "<style scoped>\n",
       "    .dataframe tbody tr th:only-of-type {\n",
       "        vertical-align: middle;\n",
       "    }\n",
       "\n",
       "    .dataframe tbody tr th {\n",
       "        vertical-align: top;\n",
       "    }\n",
       "\n",
       "    .dataframe thead th {\n",
       "        text-align: right;\n",
       "    }\n",
       "</style>\n",
       "<table border=\"1\" class=\"dataframe\">\n",
       "  <thead>\n",
       "    <tr style=\"text-align: right;\">\n",
       "      <th></th>\n",
       "      <th>image_id</th>\n",
       "      <th>label</th>\n",
       "      <th>image_width</th>\n",
       "      <th>image_height</th>\n",
       "      <th>is_tma</th>\n",
       "    </tr>\n",
       "  </thead>\n",
       "  <tbody>\n",
       "    <tr>\n",
       "      <th>1</th>\n",
       "      <td>66</td>\n",
       "      <td>LGSC</td>\n",
       "      <td>48871</td>\n",
       "      <td>48195</td>\n",
       "      <td>False</td>\n",
       "    </tr>\n",
       "    <tr>\n",
       "      <th>4</th>\n",
       "      <td>286</td>\n",
       "      <td>EC</td>\n",
       "      <td>37204</td>\n",
       "      <td>30020</td>\n",
       "      <td>False</td>\n",
       "    </tr>\n",
       "    <tr>\n",
       "      <th>5</th>\n",
       "      <td>431</td>\n",
       "      <td>HGSC</td>\n",
       "      <td>39991</td>\n",
       "      <td>40943</td>\n",
       "      <td>False</td>\n",
       "    </tr>\n",
       "    <tr>\n",
       "      <th>8</th>\n",
       "      <td>1020</td>\n",
       "      <td>HGSC</td>\n",
       "      <td>36585</td>\n",
       "      <td>33751</td>\n",
       "      <td>False</td>\n",
       "    </tr>\n",
       "    <tr>\n",
       "      <th>10</th>\n",
       "      <td>1101</td>\n",
       "      <td>HGSC</td>\n",
       "      <td>26306</td>\n",
       "      <td>18403</td>\n",
       "      <td>False</td>\n",
       "    </tr>\n",
       "    <tr>\n",
       "      <th>...</th>\n",
       "      <td>...</td>\n",
       "      <td>...</td>\n",
       "      <td>...</td>\n",
       "      <td>...</td>\n",
       "      <td>...</td>\n",
       "    </tr>\n",
       "    <tr>\n",
       "      <th>520</th>\n",
       "      <td>63289</td>\n",
       "      <td>CC</td>\n",
       "      <td>32380</td>\n",
       "      <td>35307</td>\n",
       "      <td>False</td>\n",
       "    </tr>\n",
       "    <tr>\n",
       "      <th>524</th>\n",
       "      <td>63836</td>\n",
       "      <td>EC</td>\n",
       "      <td>17416</td>\n",
       "      <td>21934</td>\n",
       "      <td>False</td>\n",
       "    </tr>\n",
       "    <tr>\n",
       "      <th>526</th>\n",
       "      <td>63941</td>\n",
       "      <td>HGSC</td>\n",
       "      <td>47123</td>\n",
       "      <td>36600</td>\n",
       "      <td>False</td>\n",
       "    </tr>\n",
       "    <tr>\n",
       "      <th>534</th>\n",
       "      <td>65094</td>\n",
       "      <td>MC</td>\n",
       "      <td>55042</td>\n",
       "      <td>45080</td>\n",
       "      <td>False</td>\n",
       "    </tr>\n",
       "    <tr>\n",
       "      <th>535</th>\n",
       "      <td>65300</td>\n",
       "      <td>HGSC</td>\n",
       "      <td>75860</td>\n",
       "      <td>27503</td>\n",
       "      <td>False</td>\n",
       "    </tr>\n",
       "  </tbody>\n",
       "</table>\n",
       "<p>108 rows × 5 columns</p>\n",
       "</div>"
      ],
      "text/plain": [
       "     image_id label  image_width  image_height  is_tma\n",
       "1          66  LGSC        48871         48195   False\n",
       "4         286    EC        37204         30020   False\n",
       "5         431  HGSC        39991         40943   False\n",
       "8        1020  HGSC        36585         33751   False\n",
       "10       1101  HGSC        26306         18403   False\n",
       "..        ...   ...          ...           ...     ...\n",
       "520     63289    CC        32380         35307   False\n",
       "524     63836    EC        17416         21934   False\n",
       "526     63941  HGSC        47123         36600   False\n",
       "534     65094    MC        55042         45080   False\n",
       "535     65300  HGSC        75860         27503   False\n",
       "\n",
       "[108 rows x 5 columns]"
      ]
     },
     "execution_count": 99,
     "metadata": {},
     "output_type": "execute_result"
    }
   ],
   "source": [
    "test_df = pd.read_csv(test_csv_path, index_col=0)\n",
    "test_df"
   ]
  },
  {
   "cell_type": "code",
   "execution_count": 100,
   "id": "a43385ed",
   "metadata": {},
   "outputs": [],
   "source": [
    "res_df['image_id'] = res_df['image_id'].astype('int')"
   ]
  },
  {
   "cell_type": "code",
   "execution_count": 101,
   "id": "8772bc60-9fcb-4e31-859f-6414c123d3f4",
   "metadata": {},
   "outputs": [],
   "source": [
    "dff = pd.merge(test_df, res_df, on = 'image_id')"
   ]
  },
  {
   "cell_type": "code",
   "execution_count": 102,
   "id": "96ff64e0",
   "metadata": {},
   "outputs": [
    {
     "data": {
      "text/html": [
       "<div>\n",
       "<style scoped>\n",
       "    .dataframe tbody tr th:only-of-type {\n",
       "        vertical-align: middle;\n",
       "    }\n",
       "\n",
       "    .dataframe tbody tr th {\n",
       "        vertical-align: top;\n",
       "    }\n",
       "\n",
       "    .dataframe thead th {\n",
       "        text-align: right;\n",
       "    }\n",
       "</style>\n",
       "<table border=\"1\" class=\"dataframe\">\n",
       "  <thead>\n",
       "    <tr style=\"text-align: right;\">\n",
       "      <th></th>\n",
       "      <th>image_id</th>\n",
       "      <th>label</th>\n",
       "      <th>image_width</th>\n",
       "      <th>image_height</th>\n",
       "      <th>is_tma</th>\n",
       "      <th>pred_label</th>\n",
       "    </tr>\n",
       "  </thead>\n",
       "  <tbody>\n",
       "    <tr>\n",
       "      <th>0</th>\n",
       "      <td>66</td>\n",
       "      <td>LGSC</td>\n",
       "      <td>48871</td>\n",
       "      <td>48195</td>\n",
       "      <td>False</td>\n",
       "      <td>CC</td>\n",
       "    </tr>\n",
       "    <tr>\n",
       "      <th>1</th>\n",
       "      <td>286</td>\n",
       "      <td>EC</td>\n",
       "      <td>37204</td>\n",
       "      <td>30020</td>\n",
       "      <td>False</td>\n",
       "      <td>EC</td>\n",
       "    </tr>\n",
       "    <tr>\n",
       "      <th>2</th>\n",
       "      <td>431</td>\n",
       "      <td>HGSC</td>\n",
       "      <td>39991</td>\n",
       "      <td>40943</td>\n",
       "      <td>False</td>\n",
       "      <td>CC</td>\n",
       "    </tr>\n",
       "    <tr>\n",
       "      <th>3</th>\n",
       "      <td>1020</td>\n",
       "      <td>HGSC</td>\n",
       "      <td>36585</td>\n",
       "      <td>33751</td>\n",
       "      <td>False</td>\n",
       "      <td>CC</td>\n",
       "    </tr>\n",
       "    <tr>\n",
       "      <th>4</th>\n",
       "      <td>1101</td>\n",
       "      <td>HGSC</td>\n",
       "      <td>26306</td>\n",
       "      <td>18403</td>\n",
       "      <td>False</td>\n",
       "      <td>CC</td>\n",
       "    </tr>\n",
       "    <tr>\n",
       "      <th>...</th>\n",
       "      <td>...</td>\n",
       "      <td>...</td>\n",
       "      <td>...</td>\n",
       "      <td>...</td>\n",
       "      <td>...</td>\n",
       "      <td>...</td>\n",
       "    </tr>\n",
       "    <tr>\n",
       "      <th>103</th>\n",
       "      <td>63289</td>\n",
       "      <td>CC</td>\n",
       "      <td>32380</td>\n",
       "      <td>35307</td>\n",
       "      <td>False</td>\n",
       "      <td>CC</td>\n",
       "    </tr>\n",
       "    <tr>\n",
       "      <th>104</th>\n",
       "      <td>63836</td>\n",
       "      <td>EC</td>\n",
       "      <td>17416</td>\n",
       "      <td>21934</td>\n",
       "      <td>False</td>\n",
       "      <td>HGSC</td>\n",
       "    </tr>\n",
       "    <tr>\n",
       "      <th>105</th>\n",
       "      <td>63941</td>\n",
       "      <td>HGSC</td>\n",
       "      <td>47123</td>\n",
       "      <td>36600</td>\n",
       "      <td>False</td>\n",
       "      <td>HGSC</td>\n",
       "    </tr>\n",
       "    <tr>\n",
       "      <th>106</th>\n",
       "      <td>65094</td>\n",
       "      <td>MC</td>\n",
       "      <td>55042</td>\n",
       "      <td>45080</td>\n",
       "      <td>False</td>\n",
       "      <td>EC</td>\n",
       "    </tr>\n",
       "    <tr>\n",
       "      <th>107</th>\n",
       "      <td>65300</td>\n",
       "      <td>HGSC</td>\n",
       "      <td>75860</td>\n",
       "      <td>27503</td>\n",
       "      <td>False</td>\n",
       "      <td>HGSC</td>\n",
       "    </tr>\n",
       "  </tbody>\n",
       "</table>\n",
       "<p>108 rows × 6 columns</p>\n",
       "</div>"
      ],
      "text/plain": [
       "     image_id label  image_width  image_height  is_tma pred_label\n",
       "0          66  LGSC        48871         48195   False         CC\n",
       "1         286    EC        37204         30020   False         EC\n",
       "2         431  HGSC        39991         40943   False         CC\n",
       "3        1020  HGSC        36585         33751   False         CC\n",
       "4        1101  HGSC        26306         18403   False         CC\n",
       "..        ...   ...          ...           ...     ...        ...\n",
       "103     63289    CC        32380         35307   False         CC\n",
       "104     63836    EC        17416         21934   False       HGSC\n",
       "105     63941  HGSC        47123         36600   False       HGSC\n",
       "106     65094    MC        55042         45080   False         EC\n",
       "107     65300  HGSC        75860         27503   False       HGSC\n",
       "\n",
       "[108 rows x 6 columns]"
      ]
     },
     "execution_count": 102,
     "metadata": {},
     "output_type": "execute_result"
    }
   ],
   "source": [
    "dff"
   ]
  },
  {
   "cell_type": "code",
   "execution_count": 103,
   "id": "4598f87e",
   "metadata": {},
   "outputs": [
    {
     "data": {
      "text/plain": [
       "0.49074074074074076"
      ]
     },
     "execution_count": 103,
     "metadata": {},
     "output_type": "execute_result"
    }
   ],
   "source": [
    "(dff['label'] == dff['pred_label']).sum()/ len(dff)"
   ]
  },
  {
   "cell_type": "code",
   "execution_count": 104,
   "id": "e566f167",
   "metadata": {},
   "outputs": [],
   "source": [
    "from sklearn.metrics import f1_score\n",
    "\n",
    "f1 = f1_score(dff['label'], dff['pred_label'], average='macro')"
   ]
  },
  {
   "cell_type": "code",
   "execution_count": 106,
   "id": "2890b563",
   "metadata": {},
   "outputs": [
    {
     "data": {
      "text/plain": [
       "0.31042490118577076"
      ]
     },
     "execution_count": 106,
     "metadata": {},
     "output_type": "execute_result"
    }
   ],
   "source": [
    "f1"
   ]
  },
  {
   "cell_type": "code",
   "execution_count": 105,
   "id": "fa535db9",
   "metadata": {},
   "outputs": [
    {
     "name": "stdout",
     "output_type": "stream",
     "text": [
      "              precision    recall  f1-score   support\n",
      "\n",
      "          CC       0.32      0.70      0.44        20\n",
      "          EC       0.52      0.44      0.48        25\n",
      "        HGSC       0.65      0.62      0.64        45\n",
      "        LGSC       0.00      0.00      0.00         9\n",
      "          MC       0.00      0.00      0.00         9\n",
      "\n",
      "    accuracy                           0.49       108\n",
      "   macro avg       0.30      0.35      0.31       108\n",
      "weighted avg       0.45      0.49      0.46       108\n",
      "\n"
     ]
    },
    {
     "name": "stderr",
     "output_type": "stream",
     "text": [
      "/Users/bargav/anaconda3/envs/clean_ml/lib/python3.11/site-packages/sklearn/metrics/_classification.py:1469: UndefinedMetricWarning: Precision and F-score are ill-defined and being set to 0.0 in labels with no predicted samples. Use `zero_division` parameter to control this behavior.\n",
      "  _warn_prf(average, modifier, msg_start, len(result))\n",
      "/Users/bargav/anaconda3/envs/clean_ml/lib/python3.11/site-packages/sklearn/metrics/_classification.py:1469: UndefinedMetricWarning: Precision and F-score are ill-defined and being set to 0.0 in labels with no predicted samples. Use `zero_division` parameter to control this behavior.\n",
      "  _warn_prf(average, modifier, msg_start, len(result))\n",
      "/Users/bargav/anaconda3/envs/clean_ml/lib/python3.11/site-packages/sklearn/metrics/_classification.py:1469: UndefinedMetricWarning: Precision and F-score are ill-defined and being set to 0.0 in labels with no predicted samples. Use `zero_division` parameter to control this behavior.\n",
      "  _warn_prf(average, modifier, msg_start, len(result))\n"
     ]
    }
   ],
   "source": [
    "from sklearn.metrics import classification_report\n",
    "\n",
    "print(classification_report(dff['label'], dff['pred_label'] ))"
   ]
  },
  {
   "cell_type": "code",
   "execution_count": null,
   "id": "bb5e8bf5",
   "metadata": {},
   "outputs": [],
   "source": []
  },
  {
   "cell_type": "code",
   "execution_count": null,
   "id": "e9e2456b",
   "metadata": {},
   "outputs": [],
   "source": []
  },
  {
   "cell_type": "code",
   "execution_count": null,
   "id": "8f09f19f",
   "metadata": {},
   "outputs": [],
   "source": []
  }
 ],
 "metadata": {
  "kernelspec": {
   "display_name": "Python 3 (ipykernel)",
   "language": "python",
   "name": "python3"
  },
  "language_info": {
   "codemirror_mode": {
    "name": "ipython",
    "version": 3
   },
   "file_extension": ".py",
   "mimetype": "text/x-python",
   "name": "python",
   "nbconvert_exporter": "python",
   "pygments_lexer": "ipython3",
   "version": "3.11.5"
  }
 },
 "nbformat": 4,
 "nbformat_minor": 5
}
